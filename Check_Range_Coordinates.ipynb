{
 "cells": [
  {
   "cell_type": "code",
   "execution_count": null,
   "id": "15aff285",
   "metadata": {},
   "outputs": [],
   "source": [
    "import pandas as pd # analyze data\n",
    "import requests # request actions from API\n",
    "import json # handle the result from API"
   ]
  },
  {
   "cell_type": "code",
   "execution_count": null,
   "id": "fbd78e69",
   "metadata": {},
   "outputs": [],
   "source": [
    "df = pd.read_excel('')\n",
    "pd.set_option('display.max_rows', None) # display all rows in df"
   ]
  },
  {
   "cell_type": "code",
   "execution_count": null,
   "id": "44f4ccf7",
   "metadata": {},
   "outputs": [],
   "source": [
    "df.head(100)"
   ]
  },
  {
   "cell_type": "code",
   "execution_count": null,
   "id": "f548fb4d",
   "metadata": {},
   "outputs": [],
   "source": [
    "# Define the city coordinate ranges\n",
    "city_ranges = {\n",
    "    \"\": {\n",
    "        \"lat_min\": ,\n",
    "        \"lat_max\": ,\n",
    "        \"lng_min\": ,\n",
    "        \"lng_max\": \n",
    "    }\n",
    "}\n",
    "\n",
    "# Create a DataFrame to store out-of-range addresses\n",
    "out_of_range_df = pd.DataFrame(columns=['ADDRESS'])\n",
    "\n",
    "# Loop through each row in the DataFrame\n",
    "for i, row in df.iterrows():\n",
    "    apiAddress = str(df.at[i, 'ADDRESS'])\n",
    "    \n",
    "    params = {\n",
    "        'key': '',\n",
    "        'address': apiAddress\n",
    "    }\n",
    "\n",
    "    req_url = 'https://maps.googleapis.com/maps/api/geocode/json?'\n",
    "    response = requests.get(req_url, params=params)\n",
    "    print(response)\n",
    "    \n",
    "    data = response.json()\n",
    "\n",
    "    if data['status'] == 'OK':\n",
    "        result = data['results'][0]\n",
    "        location = result['geometry']['location']\n",
    "        lat, lng = location['lat'], location['lng']\n",
    "\n",
    "        # Check if the coordinates are within the specified city's range\n",
    "        city_name = \"\"  # Change this to the desired city\n",
    "        city_range = city_ranges.get(city_name)\n",
    "        if city_range:\n",
    "            if not (city_range['lat_min'] <= lat <= city_range['lat_max'] and\n",
    "                    city_range['lng_min'] <= lng <= city_range['lng_max']):\n",
    "                print(f\"Warning: Coordinates for address '{apiAddress}' are outside the range for {city_name}.\")\n",
    "                out_of_range_df = out_of_range_df.append({'ADDRESS': apiAddress, 'lat': lat, 'lng': lng}, ignore_index=True)\n",
    "                #out_of_range_df = out_of_range_df.append({'ADDRESS': apiAddress}, ignore_index=True)\n",
    "        df.at[i, 'lat'] = lat\n",
    "        df.at[i, 'lng'] = lng\n",
    "    else:\n",
    "        -1"
   ]
  },
  {
   "cell_type": "code",
   "execution_count": null,
   "id": "022b4e6e",
   "metadata": {},
   "outputs": [],
   "source": [
    "df.to_excel('', encoding=\"utf-8\") # save new file with new columns of values with the latitude & longitude"
   ]
  },
  {
   "cell_type": "code",
   "execution_count": null,
   "id": "af9e15b7",
   "metadata": {},
   "outputs": [],
   "source": [
    "# Save the out-of-range addresses to an Excel file if there are any\n",
    "if not out_of_range_df.empty:\n",
    "    out_of_range_df.to_excel('out_of_range_addresses.xlsx', index=False)"
   ]
  },
  {
   "cell_type": "markdown",
   "id": "46f244e5",
   "metadata": {},
   "source": [
    "# Multiple Cities"
   ]
  },
  {
   "cell_type": "code",
   "execution_count": null,
   "id": "24ba0909",
   "metadata": {},
   "outputs": [],
   "source": [
    "city_ranges = {\n",
    "    \"\": {\"lat_min\": , \"lat_max\": , \"lng_min\": , \"lng_max\": },\n",
    "    \"\": {\"lat_min\": , \"lat_max\": , \"lng_min\": , \"lng_max\": },\n",
    "    # Add more cities and their coordinate ranges here\n",
    "}\n",
    "\n",
    "# Loop through each row in the DataFrame\n",
    "for i, row in df.iterrows():\n",
    "    apiAddress = str(df.at[i, 'ADDRESS'])\n",
    "    \n",
    "    params = {\n",
    "        'key': '#',\n",
    "        'address': apiAddress\n",
    "    }\n",
    "\n",
    "    req_url = 'https://maps.googleapis.com/maps/api/geocode/json?'\n",
    "    response = requests.get(req_url, params=params)\n",
    "    print(response)\n",
    "    \n",
    "    data = response.json()\n",
    "\n",
    "    if data['status'] == 'OK':\n",
    "        result = data['results'][0]\n",
    "        location = result['geometry']['location']\n",
    "        lat, lng = location['lat'], location['lng']\n",
    "\n",
    "        found_city = None\n",
    "        for city_name, city_range in city_ranges.items():\n",
    "            if (city_range['lat_min'] <= lat <= city_range['lat_max'] and\n",
    "                    city_range['lng_min'] <= lng <= city_range['lng_max']):\n",
    "                found_city = city_name\n",
    "                break\n",
    "        if not found_city:\n",
    "            print(f\"Warning: Coordinates for address '{apiAddress}' do not match any city range.\")\n",
    "        \n",
    "        #if found_city:\n",
    "         #   df.at[i, 'City'] = found_city\n",
    "        #else:\n",
    "         #   print(f\"Warning: Coordinates for address '{apiAddress}' do not match any city range.\")\n",
    "        \n",
    "        df.at[i, 'lat'] = lat\n",
    "        df.at[i, 'lng'] = lng\n",
    "    else:\n",
    "        -1\n"
   ]
  },
  {
   "cell_type": "code",
   "execution_count": null,
   "id": "e667120f",
   "metadata": {},
   "outputs": [],
   "source": [
    "df.to_excel('', encoding=\"utf-8\") # save new file with new columns of values with the latitude & longitude"
   ]
  }
 ],
 "metadata": {
  "kernelspec": {
   "display_name": "Python 3 (ipykernel)",
   "language": "python",
   "name": "python3"
  },
  "language_info": {
   "codemirror_mode": {
    "name": "ipython",
    "version": 3
   },
   "file_extension": ".py",
   "mimetype": "text/x-python",
   "name": "python",
   "nbconvert_exporter": "python",
   "pygments_lexer": "ipython3",
   "version": "3.9.16"
  }
 },
 "nbformat": 4,
 "nbformat_minor": 5
}
